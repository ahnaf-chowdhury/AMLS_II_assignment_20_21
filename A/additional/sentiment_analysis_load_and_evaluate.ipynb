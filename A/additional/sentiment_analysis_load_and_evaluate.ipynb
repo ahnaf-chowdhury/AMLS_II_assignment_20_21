{
  "nbformat": 4,
  "nbformat_minor": 0,
  "metadata": {
    "colab": {
      "name": "sentiment_analysis_load_and_evaluate.ipynb",
      "provenance": []
    },
    "kernelspec": {
      "name": "python3",
      "display_name": "Python 3"
    },
    "language_info": {
      "name": "python"
    }
  },
  "cells": [
    {
      "cell_type": "code",
      "metadata": {
        "id": "sDOqze4HXSYK"
      },
      "source": [
        "import re\n",
        "import datetime\n",
        "import os\n",
        "import pandas as pd\n",
        "import numpy as np\n",
        "from sklearn.model_selection import train_test_split\n",
        "from sklearn.metrics import confusion_matrix\n",
        "import matplotlib.pyplot as plt"
      ],
      "execution_count": null,
      "outputs": []
    },
    {
      "cell_type": "code",
      "metadata": {
        "id": "yHmiqNXVZH7G"
      },
      "source": [
        "import tensorflow as tf"
      ],
      "execution_count": null,
      "outputs": []
    },
    {
      "cell_type": "code",
      "metadata": {
        "id": "LaZ1El2xZKQg"
      },
      "source": [
        "import keras\n",
        "# from keras.models import Sequential\n",
        "# from keras.layers import Dense\n",
        "# from keras.layers import LSTM\n",
        "# from keras.layers import Activation\n",
        "# from keras.layers import Embedding\n",
        "# from keras.layers import Bidirectional\n",
        "# from keras.layers import Dropout\n",
        "# from keras.layers import BatchNormalization"
      ],
      "execution_count": null,
      "outputs": []
    },
    {
      "cell_type": "code",
      "metadata": {
        "colab": {
          "base_uri": "https://localhost:8080/"
        },
        "id": "Tdk1KHtwZMdd",
        "outputId": "2cb9e377-f370-409e-f881-ba80f6ff2596"
      },
      "source": [
        "import nltk\n",
        "nltk.download('stopwords')"
      ],
      "execution_count": null,
      "outputs": [
        {
          "output_type": "stream",
          "text": [
            "[nltk_data] Downloading package stopwords to /root/nltk_data...\n",
            "[nltk_data]   Unzipping corpora/stopwords.zip.\n"
          ],
          "name": "stdout"
        },
        {
          "output_type": "execute_result",
          "data": {
            "text/plain": [
              "True"
            ]
          },
          "metadata": {
            "tags": []
          },
          "execution_count": 4
        }
      ]
    },
    {
      "cell_type": "code",
      "metadata": {
        "colab": {
          "base_uri": "https://localhost:8080/"
        },
        "id": "Ok2sUuBUZTgi",
        "outputId": "7ffcafa0-1b4d-40c9-a7cb-0f6fd378d917"
      },
      "source": [
        "nltk.download('wordnet')"
      ],
      "execution_count": null,
      "outputs": [
        {
          "output_type": "stream",
          "text": [
            "[nltk_data] Downloading package wordnet to /root/nltk_data...\n",
            "[nltk_data]   Unzipping corpora/wordnet.zip.\n"
          ],
          "name": "stdout"
        },
        {
          "output_type": "execute_result",
          "data": {
            "text/plain": [
              "True"
            ]
          },
          "metadata": {
            "tags": []
          },
          "execution_count": 5
        }
      ]
    },
    {
      "cell_type": "code",
      "metadata": {
        "colab": {
          "base_uri": "https://localhost:8080/"
        },
        "id": "uqal4dz3ZVXR",
        "outputId": "027f46dd-064b-4949-d1a6-e860badaa432"
      },
      "source": [
        "nltk.download('averaged_perceptron_tagger')"
      ],
      "execution_count": null,
      "outputs": [
        {
          "output_type": "stream",
          "text": [
            "[nltk_data] Downloading package averaged_perceptron_tagger to\n",
            "[nltk_data]     /root/nltk_data...\n",
            "[nltk_data]   Unzipping taggers/averaged_perceptron_tagger.zip.\n"
          ],
          "name": "stdout"
        },
        {
          "output_type": "execute_result",
          "data": {
            "text/plain": [
              "True"
            ]
          },
          "metadata": {
            "tags": []
          },
          "execution_count": 6
        }
      ]
    },
    {
      "cell_type": "code",
      "metadata": {
        "colab": {
          "base_uri": "https://localhost:8080/"
        },
        "id": "2VPxuGItZWvU",
        "outputId": "448105b9-12d0-431b-cecf-42ce420d32b4"
      },
      "source": [
        "nltk.download('tagsets')"
      ],
      "execution_count": null,
      "outputs": [
        {
          "output_type": "stream",
          "text": [
            "[nltk_data] Downloading package tagsets to /root/nltk_data...\n",
            "[nltk_data]   Unzipping help/tagsets.zip.\n"
          ],
          "name": "stdout"
        },
        {
          "output_type": "execute_result",
          "data": {
            "text/plain": [
              "True"
            ]
          },
          "metadata": {
            "tags": []
          },
          "execution_count": 7
        }
      ]
    },
    {
      "cell_type": "code",
      "metadata": {
        "colab": {
          "base_uri": "https://localhost:8080/"
        },
        "id": "ve8cvCPjZZdq",
        "outputId": "f920f245-ad46-4393-ce58-5dcc2ef6ca1b"
      },
      "source": [
        "nltk.download('punkt')"
      ],
      "execution_count": null,
      "outputs": [
        {
          "output_type": "stream",
          "text": [
            "[nltk_data] Downloading package punkt to /root/nltk_data...\n",
            "[nltk_data]   Unzipping tokenizers/punkt.zip.\n"
          ],
          "name": "stdout"
        },
        {
          "output_type": "execute_result",
          "data": {
            "text/plain": [
              "True"
            ]
          },
          "metadata": {
            "tags": []
          },
          "execution_count": 8
        }
      ]
    },
    {
      "cell_type": "code",
      "metadata": {
        "id": "FDsW5_ZFZb0_"
      },
      "source": [
        "from nltk.stem.wordnet import WordNetLemmatizer \n",
        "from nltk.tag import pos_tag\n",
        "from nltk.tokenize import word_tokenize"
      ],
      "execution_count": null,
      "outputs": []
    },
    {
      "cell_type": "code",
      "metadata": {
        "id": "QPYlQ2d0ZeGV"
      },
      "source": [
        "from nltk.corpus import stopwords"
      ],
      "execution_count": null,
      "outputs": []
    },
    {
      "cell_type": "code",
      "metadata": {
        "id": "5LLnz1nmZhFP"
      },
      "source": [
        "from keras.preprocessing.text import one_hot"
      ],
      "execution_count": null,
      "outputs": []
    },
    {
      "cell_type": "code",
      "metadata": {
        "id": "VjFZHFuQZiiJ"
      },
      "source": [
        "def lemmatize_phrase(phrase):\n",
        "    # lemmatises words in a phrase, by considering their position and type\n",
        "    # words such as 'swam' and 'swimming' are changed to 'swim'\n",
        "    lemmatizer = WordNetLemmatizer()\n",
        "    lemmatized_phrase = []\n",
        "\n",
        "    for word, tag in pos_tag(word_tokenize(phrase)):\n",
        "        if tag.startswith('NN'):\n",
        "            pos = 'n'\n",
        "        elif tag.startswith('VB'):\n",
        "            pos = 'v'\n",
        "        else:\n",
        "            pos = 'a'\n",
        "        lemmatized_phrase.append(lemmatizer.lemmatize(word, pos))\n",
        "\n",
        "    return \" \".join(lemmatized_phrase)"
      ],
      "execution_count": null,
      "outputs": []
    },
    {
      "cell_type": "code",
      "metadata": {
        "colab": {
          "base_uri": "https://localhost:8080/",
          "height": 164
        },
        "id": "5ikb2IYzZmbf",
        "outputId": "27374b7c-be51-4f2e-8deb-faab2a1952bc"
      },
      "source": [
        "os.mkdir('./sentiment-analysis-on-movie-reviews')"
      ],
      "execution_count": null,
      "outputs": [
        {
          "output_type": "error",
          "ename": "FileExistsError",
          "evalue": "ignored",
          "traceback": [
            "\u001b[0;31m---------------------------------------------------------------------------\u001b[0m",
            "\u001b[0;31mFileExistsError\u001b[0m                           Traceback (most recent call last)",
            "\u001b[0;32m<ipython-input-12-bcbda68ea30b>\u001b[0m in \u001b[0;36m<module>\u001b[0;34m()\u001b[0m\n\u001b[0;32m----> 1\u001b[0;31m \u001b[0mos\u001b[0m\u001b[0;34m.\u001b[0m\u001b[0mmkdir\u001b[0m\u001b[0;34m(\u001b[0m\u001b[0;34m'./sentiment-analysis-on-movie-reviews'\u001b[0m\u001b[0;34m)\u001b[0m\u001b[0;34m\u001b[0m\u001b[0;34m\u001b[0m\u001b[0m\n\u001b[0m",
            "\u001b[0;31mFileExistsError\u001b[0m: [Errno 17] File exists: './sentiment-analysis-on-movie-reviews'"
          ]
        }
      ]
    },
    {
      "cell_type": "code",
      "metadata": {
        "id": "CKu3daVaZ1N-"
      },
      "source": [
        "from google_drive_downloader import GoogleDriveDownloader as gdd"
      ],
      "execution_count": null,
      "outputs": []
    },
    {
      "cell_type": "code",
      "metadata": {
        "id": "dOXky6SyZqYs"
      },
      "source": [
        "gdd.download_file_from_google_drive(file_id='1o_vzk88Fu_n5R0NRAnpvKJOIQZY-QdqB',\n",
        "                                    dest_path='./sentiment-analysis-on-movie-reviews/train.tsv',\n",
        "                                    unzip=False)\n",
        "\n",
        "gdd.download_file_from_google_drive(file_id='129VZS4q_WyJs9txnVzW85WDsCbOfbiXG',\n",
        "                                    dest_path='./sentiment-analysis-on-movie-reviews/test.tsv',\n",
        "                                    unzip=False)"
      ],
      "execution_count": null,
      "outputs": []
    },
    {
      "cell_type": "code",
      "metadata": {
        "id": "32J-OvG8Zysj"
      },
      "source": [
        "stop_words = set(stopwords.words('english'))"
      ],
      "execution_count": null,
      "outputs": []
    },
    {
      "cell_type": "code",
      "metadata": {
        "id": "kpu51ZJtaHnU"
      },
      "source": [
        "#this includes negative words as well, which should be removed \n",
        "\n",
        "neg = [\"aren't\", \"didn't\", \"don't\", \"doesn't\", \"hadn't\",  \"hasn't\", \"haven't\", \"isn't\", \"no\", \"not\", \"shouldn't\", \"wasn't\", \"weren't\", \"wouldn't\", \"couldn't\",\n",
        "      \"aren\", \"didn\", \"don\", \"doesn\", \"hadn\", \"hasn\", \"haven\", \"isn\", \"shouldn\", \"wasn\", \"weren\", \"wouldn\", \"couldn\",\n",
        "       \"mightn't\", \"mightn\", \"mustn't\", \"mustn\", \"needn't\", \"needn\", \"shan't\", \"shan\", \"won't\", \"won\"]\n",
        "\n",
        "# neg = ['no', 'not', \"aren\", \"didn\", \"doesn\", \"hadn\",  \"haven\", \"isn\", \"shouldn\", \"wasn\", \"weren\", \"wouldn\"]\n",
        "\n",
        "# due to the way the text is cleaned up, words like don't and haven't appear as don and haven.\n",
        "\n",
        "stop_words.difference_update(neg)\n",
        "\n",
        "# stop_words.difference_update(['no', 'not'])\n",
        "\n",
        "# stop_words"
      ],
      "execution_count": null,
      "outputs": []
    },
    {
      "cell_type": "code",
      "metadata": {
        "id": "mO--ltfpaKyL"
      },
      "source": [
        "# returns text -> rename function\n",
        "\n",
        "def text_cleaning(text):\n",
        "    if text:\n",
        "        text = ' '.join(text.split('.'))\n",
        "        text = re.sub('\\/', ' ', text)\n",
        "        text = re.sub(r'\\\\', ' ', text)\n",
        "        text = re.sub(r'((http)\\S+)', '', text)\n",
        "        text = re.sub(r'\\s+', ' ', re.sub('[^A-Za-z]', ' ', text.strip().lower())).strip()\n",
        "        text = re.sub(r'\\W+', ' ', text.strip().lower()).strip()\n",
        "        \n",
        "        text_final = [word for word in text.split() if word not in stop_words]\n",
        "\n",
        "        if len(text_final) == 0:       # if all words are irrelevant, we may still wish to include the phrase\n",
        "            text_final = [word for word in text.split()]\n",
        "        return \" \".join(text_final)\n",
        "    return \"\""
      ],
      "execution_count": null,
      "outputs": []
    },
    {
      "cell_type": "code",
      "metadata": {
        "id": "KV8vjfEUaM0o"
      },
      "source": [
        "data_dir_train = './sentiment-analysis-on-movie-reviews/train.tsv'\n",
        "data_dir_test = './sentiment-analysis-on-movie-reviews/test.tsv'\n",
        "\n",
        "data_train = pd.read_csv(data_dir_train, sep='\\t')\n",
        "data_test = pd.read_csv(data_dir_test, sep='\\t')"
      ],
      "execution_count": null,
      "outputs": []
    },
    {
      "cell_type": "code",
      "metadata": {
        "colab": {
          "base_uri": "https://localhost:8080/",
          "height": 204
        },
        "id": "SgiZIug6aOqD",
        "outputId": "76d3ea47-8649-4ceb-f935-321637ffabef"
      },
      "source": [
        "data_train.head()\n"
      ],
      "execution_count": null,
      "outputs": [
        {
          "output_type": "execute_result",
          "data": {
            "text/html": [
              "<div>\n",
              "<style scoped>\n",
              "    .dataframe tbody tr th:only-of-type {\n",
              "        vertical-align: middle;\n",
              "    }\n",
              "\n",
              "    .dataframe tbody tr th {\n",
              "        vertical-align: top;\n",
              "    }\n",
              "\n",
              "    .dataframe thead th {\n",
              "        text-align: right;\n",
              "    }\n",
              "</style>\n",
              "<table border=\"1\" class=\"dataframe\">\n",
              "  <thead>\n",
              "    <tr style=\"text-align: right;\">\n",
              "      <th></th>\n",
              "      <th>PhraseId</th>\n",
              "      <th>SentenceId</th>\n",
              "      <th>Phrase</th>\n",
              "      <th>Sentiment</th>\n",
              "    </tr>\n",
              "  </thead>\n",
              "  <tbody>\n",
              "    <tr>\n",
              "      <th>0</th>\n",
              "      <td>1</td>\n",
              "      <td>1</td>\n",
              "      <td>A series of escapades demonstrating the adage ...</td>\n",
              "      <td>1</td>\n",
              "    </tr>\n",
              "    <tr>\n",
              "      <th>1</th>\n",
              "      <td>2</td>\n",
              "      <td>1</td>\n",
              "      <td>A series of escapades demonstrating the adage ...</td>\n",
              "      <td>2</td>\n",
              "    </tr>\n",
              "    <tr>\n",
              "      <th>2</th>\n",
              "      <td>3</td>\n",
              "      <td>1</td>\n",
              "      <td>A series</td>\n",
              "      <td>2</td>\n",
              "    </tr>\n",
              "    <tr>\n",
              "      <th>3</th>\n",
              "      <td>4</td>\n",
              "      <td>1</td>\n",
              "      <td>A</td>\n",
              "      <td>2</td>\n",
              "    </tr>\n",
              "    <tr>\n",
              "      <th>4</th>\n",
              "      <td>5</td>\n",
              "      <td>1</td>\n",
              "      <td>series</td>\n",
              "      <td>2</td>\n",
              "    </tr>\n",
              "  </tbody>\n",
              "</table>\n",
              "</div>"
            ],
            "text/plain": [
              "   PhraseId  ...  Sentiment\n",
              "0         1  ...          1\n",
              "1         2  ...          2\n",
              "2         3  ...          2\n",
              "3         4  ...          2\n",
              "4         5  ...          2\n",
              "\n",
              "[5 rows x 4 columns]"
            ]
          },
          "metadata": {
            "tags": []
          },
          "execution_count": 19
        }
      ]
    },
    {
      "cell_type": "code",
      "metadata": {
        "id": "72QZAZSMaP5O"
      },
      "source": [
        "# clean dataframes:\n",
        "data_train['Phrase'] = data_train['Phrase'].apply(lambda x: text_cleaning(x))\n",
        "data_test['Phrase'] = data_test['Phrase'].apply(lambda x: text_cleaning(x))"
      ],
      "execution_count": null,
      "outputs": []
    },
    {
      "cell_type": "code",
      "metadata": {
        "id": "vI4FId0RaRfY"
      },
      "source": [
        "# lemmatize data:\n",
        "# lemmatises words in a phrase, by considering their position and type\n",
        "# words such as 'swam' and 'swimming' are changed to 'swim'\n",
        "lemmatize = False\n",
        "\n",
        "if lemmatize:\n",
        "    data_train['Phrase'] = data_train['Phrase'].apply(lambda x: lemmatize_phrase(x))\n",
        "    data_test['Phrase'] = data_test['Phrase'].apply(lambda x: lemmatize_phrase(x))\n"
      ],
      "execution_count": null,
      "outputs": []
    },
    {
      "cell_type": "code",
      "metadata": {
        "colab": {
          "base_uri": "https://localhost:8080/",
          "height": 204
        },
        "id": "TejtDtX8aTKQ",
        "outputId": "ad916964-045c-44f8-c89a-0d9d3f3ef99c"
      },
      "source": [
        "#drop duplicates from train\n",
        "\n",
        "data_train.drop_duplicates(subset = ['Phrase'], inplace = True)\n",
        "data_train.head()\n"
      ],
      "execution_count": null,
      "outputs": [
        {
          "output_type": "execute_result",
          "data": {
            "text/html": [
              "<div>\n",
              "<style scoped>\n",
              "    .dataframe tbody tr th:only-of-type {\n",
              "        vertical-align: middle;\n",
              "    }\n",
              "\n",
              "    .dataframe tbody tr th {\n",
              "        vertical-align: top;\n",
              "    }\n",
              "\n",
              "    .dataframe thead th {\n",
              "        text-align: right;\n",
              "    }\n",
              "</style>\n",
              "<table border=\"1\" class=\"dataframe\">\n",
              "  <thead>\n",
              "    <tr style=\"text-align: right;\">\n",
              "      <th></th>\n",
              "      <th>PhraseId</th>\n",
              "      <th>SentenceId</th>\n",
              "      <th>Phrase</th>\n",
              "      <th>Sentiment</th>\n",
              "    </tr>\n",
              "  </thead>\n",
              "  <tbody>\n",
              "    <tr>\n",
              "      <th>0</th>\n",
              "      <td>1</td>\n",
              "      <td>1</td>\n",
              "      <td>series escapades demonstrating adage good goos...</td>\n",
              "      <td>1</td>\n",
              "    </tr>\n",
              "    <tr>\n",
              "      <th>1</th>\n",
              "      <td>2</td>\n",
              "      <td>1</td>\n",
              "      <td>series escapades demonstrating adage good goose</td>\n",
              "      <td>2</td>\n",
              "    </tr>\n",
              "    <tr>\n",
              "      <th>2</th>\n",
              "      <td>3</td>\n",
              "      <td>1</td>\n",
              "      <td>series</td>\n",
              "      <td>2</td>\n",
              "    </tr>\n",
              "    <tr>\n",
              "      <th>3</th>\n",
              "      <td>4</td>\n",
              "      <td>1</td>\n",
              "      <td>a</td>\n",
              "      <td>2</td>\n",
              "    </tr>\n",
              "    <tr>\n",
              "      <th>5</th>\n",
              "      <td>6</td>\n",
              "      <td>1</td>\n",
              "      <td>escapades demonstrating adage good goose</td>\n",
              "      <td>2</td>\n",
              "    </tr>\n",
              "  </tbody>\n",
              "</table>\n",
              "</div>"
            ],
            "text/plain": [
              "   PhraseId  ...  Sentiment\n",
              "0         1  ...          1\n",
              "1         2  ...          2\n",
              "2         3  ...          2\n",
              "3         4  ...          2\n",
              "5         6  ...          2\n",
              "\n",
              "[5 rows x 4 columns]"
            ]
          },
          "metadata": {
            "tags": []
          },
          "execution_count": 22
        }
      ]
    },
    {
      "cell_type": "code",
      "metadata": {
        "id": "9aiefIBCaW8S"
      },
      "source": [
        "# length column, explain why it's important\n",
        "\n",
        "data_train['Length'] = data_train['Phrase'].apply(lambda x: len(x.split()))\n",
        "data_test['Length'] = data_test['Phrase'].apply(lambda x: len(x.split()))"
      ],
      "execution_count": null,
      "outputs": []
    },
    {
      "cell_type": "code",
      "metadata": {
        "id": "rqGOyNBRaf18"
      },
      "source": [
        "maxlen = 200"
      ],
      "execution_count": null,
      "outputs": []
    },
    {
      "cell_type": "code",
      "metadata": {
        "id": "hrmujRdGaiCm"
      },
      "source": [
        "validation_split = 0.15\n",
        "test_split = 0.15\n",
        "\n",
        "x_train, x_test, y_train, y_test = train_test_split(\n",
        "    data_train[data_train['Length']>0]['Phrase'],\n",
        "    data_train[data_train['Length']>0]['Sentiment'],\n",
        "    test_size = test_split,\n",
        "    stratify = data_train[data_train['Length'] > 0]['Sentiment'],\n",
        "    random_state = 40)\n",
        "\n",
        "x_train, x_validation, y_train, y_validation = train_test_split(\n",
        "    x_train,\n",
        "    y_train,\n",
        "    test_size = validation_split,\n",
        "    stratify = y_train,\n",
        "    random_state = 40)\n",
        "\n",
        "# ('Length']>0 filters out 'empty' phrases, which were previously punctuation marks)"
      ],
      "execution_count": null,
      "outputs": []
    },
    {
      "cell_type": "code",
      "metadata": {
        "id": "T9Z6ITAIal0W"
      },
      "source": [
        "vocab_size = 20000\n",
        "\n",
        "encodings_train = x_train.apply(lambda z: one_hot(z, vocab_size))\n",
        "encodings_validation = x_validation.apply(lambda z: one_hot(z, vocab_size))\n",
        "encodings_test = x_test.apply(lambda z: one_hot(z, vocab_size))"
      ],
      "execution_count": null,
      "outputs": []
    },
    {
      "cell_type": "code",
      "metadata": {
        "id": "_zcP0iy9bI5n"
      },
      "source": [
        "max_len_in_train = len(max(encodings_train, key = lambda i: len(i)))\n",
        "max_len_in_validation = len(max(encodings_validation, key = lambda i: len(i)))\n",
        "max_len_in_test = len(max(encodings_test, key = lambda i: len(i)))\n",
        "max_len_in_dataset = max(max_len_in_train, max_len_in_validation, max_len_in_test)\n",
        "\n",
        "if max_len_in_dataset < maxlen:\n",
        "    maxlen = max_len_in_dataset"
      ],
      "execution_count": null,
      "outputs": []
    },
    {
      "cell_type": "code",
      "metadata": {
        "id": "wSE0i0urcYxJ"
      },
      "source": [
        "encodings_train = keras.preprocessing.sequence.pad_sequences(encodings_train, maxlen=maxlen)\n",
        "encodings_validation = keras.preprocessing.sequence.pad_sequences(encodings_validation, maxlen=maxlen)\n",
        "encodings_test = keras.preprocessing.sequence.pad_sequences(encodings_test, maxlen=maxlen)"
      ],
      "execution_count": null,
      "outputs": []
    },
    {
      "cell_type": "code",
      "metadata": {
        "id": "hADNHJrFccCn"
      },
      "source": [
        "model = keras.models.load_model('lstm-2-apr-b512-dropout0-2-bn-dim128-emb-untr-epochs-335-2-layer-ttv-final.h5')"
      ],
      "execution_count": null,
      "outputs": []
    },
    {
      "cell_type": "markdown",
      "metadata": {
        "id": "O4uTy3aCc15x"
      },
      "source": [
        "#Confusion Matrix"
      ]
    },
    {
      "cell_type": "code",
      "metadata": {
        "id": "FM83K2z5dKPi"
      },
      "source": [
        "import time"
      ],
      "execution_count": null,
      "outputs": []
    },
    {
      "cell_type": "code",
      "metadata": {
        "id": "eleQjVdpcsW2"
      },
      "source": [
        "# inference on test dataset\n",
        "\n",
        "test_st = time.time()\n",
        "y_test_predicted_np = model.predict_on_batch(encodings_test)  # numpy array\n",
        "\n",
        "test_tot = time.time() - test_st"
      ],
      "execution_count": null,
      "outputs": []
    },
    {
      "cell_type": "code",
      "metadata": {
        "id": "i3l_gKpHdugk"
      },
      "source": [
        "def get_prediction(arr):\n",
        "      return arr.argmax()"
      ],
      "execution_count": null,
      "outputs": []
    },
    {
      "cell_type": "code",
      "metadata": {
        "id": "mzfHLHJ1c4HF"
      },
      "source": [
        "y_test_predicted = np.apply_along_axis(get_prediction, 1, y_test_predicted_np)"
      ],
      "execution_count": null,
      "outputs": []
    },
    {
      "cell_type": "code",
      "metadata": {
        "colab": {
          "base_uri": "https://localhost:8080/",
          "height": 291
        },
        "id": "ODhcSL1tdv2a",
        "outputId": "703ef12c-8cea-44f5-8e76-3c6b7253dc8e"
      },
      "source": [
        "import seaborn as sns\n",
        "\n",
        "filename = 'conf_matrix_final.png'\n",
        "sns.set(font_scale=1.25)\n",
        "\n",
        "conf_matrix = confusion_matrix(y_test, y_test_predicted)\n",
        "fig = sns.heatmap(conf_matrix, annot=True, fmt='g')\n",
        "fig.set(xlabel = 'Predicted labels', ylabel = 'True labels')\n",
        "\n",
        "plt.show()\n",
        "figure = fig.get_figure()    \n",
        "figure.savefig(filename, dpi=400)"
      ],
      "execution_count": null,
      "outputs": [
        {
          "output_type": "display_data",
          "data": {
            "image/png": "[encoded data removed]",
            "text/plain": [
              "<Figure size 432x288 with 2 Axes>"
            ]
          },
          "metadata": {
            "tags": []
          }
        }
      ]
    },
    {
      "cell_type": "code",
      "metadata": {
        "id": "_WtDpk2Ndx-Z"
      },
      "source": [
        "from sklearn.metrics import accuracy_score"
      ],
      "execution_count": null,
      "outputs": []
    },
    {
      "cell_type": "code",
      "metadata": {
        "colab": {
          "base_uri": "https://localhost:8080/"
        },
        "id": "hRKteDTv4F49",
        "outputId": "6ea27f2e-c6c4-42ce-b7ba-a6396f1c8b4f"
      },
      "source": [
        "accuracy_score(y_test, y_test_predicted)"
      ],
      "execution_count": null,
      "outputs": [
        {
          "output_type": "execute_result",
          "data": {
            "text/plain": [
              "0.4914290166744585"
            ]
          },
          "metadata": {
            "tags": []
          },
          "execution_count": 47
        }
      ]
    },
    {
      "cell_type": "code",
      "metadata": {
        "id": "TVKOFbiSn9h3"
      },
      "source": [
        ""
      ],
      "execution_count": null,
      "outputs": []
    }
  ]
}